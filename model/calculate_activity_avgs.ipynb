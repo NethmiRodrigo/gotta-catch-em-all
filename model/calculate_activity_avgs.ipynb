{
 "cells": [
  {
   "cell_type": "code",
   "execution_count": 2,
   "metadata": {},
   "outputs": [],
   "source": [
    "import sqlite3\n",
    "import pandas as pd"
   ]
  },
  {
   "cell_type": "code",
   "execution_count": 3,
   "metadata": {},
   "outputs": [],
   "source": [
    "NULL_SUBCARRIERS = [0, 1, 2, 3, 4, 5, 6, 7, 8, 9, 10, 11, 64, 65, 118, 119, 120, 121, 122, 123, 124, 125, 126, 127]"
   ]
  },
  {
   "cell_type": "code",
   "execution_count": 27,
   "metadata": {},
   "outputs": [
    {
     "data": {
      "text/html": [
       "<div>\n",
       "<style scoped>\n",
       "    .dataframe tbody tr th:only-of-type {\n",
       "        vertical-align: middle;\n",
       "    }\n",
       "\n",
       "    .dataframe tbody tr th {\n",
       "        vertical-align: top;\n",
       "    }\n",
       "\n",
       "    .dataframe thead th {\n",
       "        text-align: right;\n",
       "    }\n",
       "</style>\n",
       "<table border=\"1\" class=\"dataframe\">\n",
       "  <thead>\n",
       "    <tr style=\"text-align: right;\">\n",
       "      <th></th>\n",
       "      <th>timestamp</th>\n",
       "      <th>rssi</th>\n",
       "      <th>csi</th>\n",
       "      <th>voxel_no</th>\n",
       "      <th>inter_voxel_no</th>\n",
       "      <th>activity</th>\n",
       "    </tr>\n",
       "  </thead>\n",
       "  <tbody>\n",
       "    <tr>\n",
       "      <th>0</th>\n",
       "      <td>0</td>\n",
       "      <td>11</td>\n",
       "      <td>[84, -64, 4, 0, 0, 0, 0, 0, 0, 0, 0, 0, 3, 12,...</td>\n",
       "      <td>0</td>\n",
       "      <td>0</td>\n",
       "      <td>NaN</td>\n",
       "    </tr>\n",
       "    <tr>\n",
       "      <th>1</th>\n",
       "      <td>0</td>\n",
       "      <td>11</td>\n",
       "      <td>[84, -64, 4, 0, 0, 0, 0, 0, 0, 0, 0, 0, 1, -12...</td>\n",
       "      <td>0</td>\n",
       "      <td>0</td>\n",
       "      <td>NaN</td>\n",
       "    </tr>\n",
       "    <tr>\n",
       "      <th>2</th>\n",
       "      <td>0</td>\n",
       "      <td>11</td>\n",
       "      <td>[84, -64, 4, 0, 0, 0, 0, 0, 0, 0, 0, 0, -10, 8...</td>\n",
       "      <td>0</td>\n",
       "      <td>0</td>\n",
       "      <td>NaN</td>\n",
       "    </tr>\n",
       "    <tr>\n",
       "      <th>3</th>\n",
       "      <td>0</td>\n",
       "      <td>11</td>\n",
       "      <td>[84, -64, 4, 0, 0, 0, 0, 0, 0, 0, 0, 0, -2, -1...</td>\n",
       "      <td>0</td>\n",
       "      <td>0</td>\n",
       "      <td>NaN</td>\n",
       "    </tr>\n",
       "    <tr>\n",
       "      <th>4</th>\n",
       "      <td>0</td>\n",
       "      <td>11</td>\n",
       "      <td>[84, -64, 4, 0, 0, 0, 0, 0, 0, 0, 0, 0, 6, 9, ...</td>\n",
       "      <td>0</td>\n",
       "      <td>0</td>\n",
       "      <td>NaN</td>\n",
       "    </tr>\n",
       "    <tr>\n",
       "      <th>...</th>\n",
       "      <td>...</td>\n",
       "      <td>...</td>\n",
       "      <td>...</td>\n",
       "      <td>...</td>\n",
       "      <td>...</td>\n",
       "      <td>...</td>\n",
       "    </tr>\n",
       "    <tr>\n",
       "      <th>330</th>\n",
       "      <td>0</td>\n",
       "      <td>11</td>\n",
       "      <td>[84, -64, 4, 0, 0, 0, 0, 0, 0, 0, 0, 0, 10, -9...</td>\n",
       "      <td>0</td>\n",
       "      <td>0</td>\n",
       "      <td>NaN</td>\n",
       "    </tr>\n",
       "    <tr>\n",
       "      <th>331</th>\n",
       "      <td>0</td>\n",
       "      <td>11</td>\n",
       "      <td>[84, -64, 4, 0, 0, 0, 0, 0, 0, 0, 0, 0, 10, 5,...</td>\n",
       "      <td>0</td>\n",
       "      <td>0</td>\n",
       "      <td>NaN</td>\n",
       "    </tr>\n",
       "    <tr>\n",
       "      <th>332</th>\n",
       "      <td>0</td>\n",
       "      <td>11</td>\n",
       "      <td>[84, -64, 4, 0, 0, 0, 0, 0, 0, 0, 0, 0, -10, -...</td>\n",
       "      <td>0</td>\n",
       "      <td>0</td>\n",
       "      <td>NaN</td>\n",
       "    </tr>\n",
       "    <tr>\n",
       "      <th>333</th>\n",
       "      <td>0</td>\n",
       "      <td>11</td>\n",
       "      <td>[84, -64, 4, 0, 0, 0, 0, 0, 0, 0, 0, 0, 1, 11,...</td>\n",
       "      <td>0</td>\n",
       "      <td>0</td>\n",
       "      <td>NaN</td>\n",
       "    </tr>\n",
       "    <tr>\n",
       "      <th>334</th>\n",
       "      <td>0</td>\n",
       "      <td>11</td>\n",
       "      <td>[84, -64, 4, 0, 0, 0, 0, 0, 0, 0, 0, 0, -8, 9,...</td>\n",
       "      <td>0</td>\n",
       "      <td>0</td>\n",
       "      <td>NaN</td>\n",
       "    </tr>\n",
       "  </tbody>\n",
       "</table>\n",
       "<p>335 rows × 6 columns</p>\n",
       "</div>"
      ],
      "text/plain": [
       "     timestamp  rssi                                                csi  \\\n",
       "0            0    11  [84, -64, 4, 0, 0, 0, 0, 0, 0, 0, 0, 0, 3, 12,...   \n",
       "1            0    11  [84, -64, 4, 0, 0, 0, 0, 0, 0, 0, 0, 0, 1, -12...   \n",
       "2            0    11  [84, -64, 4, 0, 0, 0, 0, 0, 0, 0, 0, 0, -10, 8...   \n",
       "3            0    11  [84, -64, 4, 0, 0, 0, 0, 0, 0, 0, 0, 0, -2, -1...   \n",
       "4            0    11  [84, -64, 4, 0, 0, 0, 0, 0, 0, 0, 0, 0, 6, 9, ...   \n",
       "..         ...   ...                                                ...   \n",
       "330          0    11  [84, -64, 4, 0, 0, 0, 0, 0, 0, 0, 0, 0, 10, -9...   \n",
       "331          0    11  [84, -64, 4, 0, 0, 0, 0, 0, 0, 0, 0, 0, 10, 5,...   \n",
       "332          0    11  [84, -64, 4, 0, 0, 0, 0, 0, 0, 0, 0, 0, -10, -...   \n",
       "333          0    11  [84, -64, 4, 0, 0, 0, 0, 0, 0, 0, 0, 0, 1, 11,...   \n",
       "334          0    11  [84, -64, 4, 0, 0, 0, 0, 0, 0, 0, 0, 0, -8, 9,...   \n",
       "\n",
       "     voxel_no  inter_voxel_no  activity  \n",
       "0           0               0       NaN  \n",
       "1           0               0       NaN  \n",
       "2           0               0       NaN  \n",
       "3           0               0       NaN  \n",
       "4           0               0       NaN  \n",
       "..        ...             ...       ...  \n",
       "330         0               0       NaN  \n",
       "331         0               0       NaN  \n",
       "332         0               0       NaN  \n",
       "333         0               0       NaN  \n",
       "334         0               0       NaN  \n",
       "\n",
       "[335 rows x 6 columns]"
      ]
     },
     "execution_count": 27,
     "metadata": {},
     "output_type": "execute_result"
    }
   ],
   "source": [
    "data = pd.read_csv(\"../training-data/Voxel-0/None-2024-04-11-14-31-53.csv\")\n",
    "data"
   ]
  },
  {
   "cell_type": "code",
   "execution_count": 28,
   "metadata": {},
   "outputs": [
    {
     "data": {
      "text/plain": [
       "0      [84, -64, 4, 0, 0, 0, 0, 0, 0, 0, 0, 0, 3, 12,...\n",
       "1      [84, -64, 4, 0, 0, 0, 0, 0, 0, 0, 0, 0, 1, -12...\n",
       "2      [84, -64, 4, 0, 0, 0, 0, 0, 0, 0, 0, 0, -10, 8...\n",
       "3      [84, -64, 4, 0, 0, 0, 0, 0, 0, 0, 0, 0, -2, -1...\n",
       "4      [84, -64, 4, 0, 0, 0, 0, 0, 0, 0, 0, 0, 6, 9, ...\n",
       "                             ...                        \n",
       "330    [84, -64, 4, 0, 0, 0, 0, 0, 0, 0, 0, 0, 10, -9...\n",
       "331    [84, -64, 4, 0, 0, 0, 0, 0, 0, 0, 0, 0, 10, 5,...\n",
       "332    [84, -64, 4, 0, 0, 0, 0, 0, 0, 0, 0, 0, -10, -...\n",
       "333    [84, -64, 4, 0, 0, 0, 0, 0, 0, 0, 0, 0, 1, 11,...\n",
       "334    [84, -64, 4, 0, 0, 0, 0, 0, 0, 0, 0, 0, -8, 9,...\n",
       "Name: csi, Length: 335, dtype: object"
      ]
     },
     "execution_count": 28,
     "metadata": {},
     "output_type": "execute_result"
    }
   ],
   "source": [
    "csi = data['csi']\n",
    "csi"
   ]
  },
  {
   "cell_type": "code",
   "execution_count": 24,
   "metadata": {},
   "outputs": [
    {
     "data": {
      "text/plain": [
       "0      [84, -64, 4, 0, 0, 0, 0, 0, 0, 0, 0, 0, 3, 12,...\n",
       "1      [84, -64, 4, 0, 0, 0, 0, 0, 0, 0, 0, 0, 1, -12...\n",
       "2      [84, -64, 4, 0, 0, 0, 0, 0, 0, 0, 0, 0, -10, 8...\n",
       "3      [84, -64, 4, 0, 0, 0, 0, 0, 0, 0, 0, 0, -2, -1...\n",
       "4      [84, -64, 4, 0, 0, 0, 0, 0, 0, 0, 0, 0, 6, 9, ...\n",
       "                             ...                        \n",
       "330    [84, -64, 4, 0, 0, 0, 0, 0, 0, 0, 0, 0, 10, -9...\n",
       "331    [84, -64, 4, 0, 0, 0, 0, 0, 0, 0, 0, 0, 10, 5,...\n",
       "332    [84, -64, 4, 0, 0, 0, 0, 0, 0, 0, 0, 0, -10, -...\n",
       "333    [84, -64, 4, 0, 0, 0, 0, 0, 0, 0, 0, 0, 1, 11,...\n",
       "334    [84, -64, 4, 0, 0, 0, 0, 0, 0, 0, 0, 0, -8, 9,...\n",
       "Name: 0, Length: 335, dtype: object"
      ]
     },
     "execution_count": 24,
     "metadata": {},
     "output_type": "execute_result"
    }
   ],
   "source": [
    "# Remove the data that are indexes given in the NULL_SUBCARRIERS\n",
    "csi_df = pd.DataFrame(csi.tolist())\n",
    "csi_df[0]\n"
   ]
  },
  {
   "cell_type": "code",
   "execution_count": 26,
   "metadata": {},
   "outputs": [
    {
     "data": {
      "text/plain": [
       "0    [ , 0, ,,  , 0, ,,  , 0, ,,  , 0, ,,  , 0, ,, ...\n",
       "Name: 0, dtype: object"
      ]
     },
     "execution_count": 26,
     "metadata": {},
     "output_type": "execute_result"
    }
   ],
   "source": [
    "# Function to remove values from arrays based on NULL_SUBCARRIERS\n",
    "def remove_null_subcarriers(row):\n",
    "    return [val for idx, val in enumerate(row) if idx not in NULL_SUBCARRIERS]\n",
    "\n",
    "# Apply the function to each row of the DataFrame\n",
    "csi_df[0] = csi_df[0].apply(remove_null_subcarriers)\n",
    "csi_df.iloc[0]"
   ]
  }
 ],
 "metadata": {
  "kernelspec": {
   "display_name": "Python 3",
   "language": "python",
   "name": "python3"
  },
  "language_info": {
   "codemirror_mode": {
    "name": "ipython",
    "version": 3
   },
   "file_extension": ".py",
   "mimetype": "text/x-python",
   "name": "python",
   "nbconvert_exporter": "python",
   "pygments_lexer": "ipython3",
   "version": "3.10.12"
  }
 },
 "nbformat": 4,
 "nbformat_minor": 2
}
