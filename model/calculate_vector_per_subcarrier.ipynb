{
 "cells": [
  {
   "cell_type": "code",
   "execution_count": 1,
   "metadata": {},
   "outputs": [],
   "source": [
    "import sqlite3\n",
    "import pandas as pd"
   ]
  },
  {
   "cell_type": "code",
   "execution_count": 2,
   "metadata": {},
   "outputs": [],
   "source": [
    "from math import sqrt, atan2"
   ]
  },
  {
   "cell_type": "code",
   "execution_count": 3,
   "metadata": {},
   "outputs": [],
   "source": [
    "NULL_SUBCARRIERS = [0, 1, 2, 3, 4, 5, 6, 7, 8, 9, 10, 11, 64, 65, 118, 119, 120, 121, 122, 123, 124, 125, 126, 127]"
   ]
  },
  {
   "cell_type": "code",
   "execution_count": 4,
   "metadata": {},
   "outputs": [
    {
     "data": {
      "text/html": [
       "<div>\n",
       "<style scoped>\n",
       "    .dataframe tbody tr th:only-of-type {\n",
       "        vertical-align: middle;\n",
       "    }\n",
       "\n",
       "    .dataframe tbody tr th {\n",
       "        vertical-align: top;\n",
       "    }\n",
       "\n",
       "    .dataframe thead th {\n",
       "        text-align: right;\n",
       "    }\n",
       "</style>\n",
       "<table border=\"1\" class=\"dataframe\">\n",
       "  <thead>\n",
       "    <tr style=\"text-align: right;\">\n",
       "      <th></th>\n",
       "      <th>timestamp</th>\n",
       "      <th>rssi</th>\n",
       "      <th>csi</th>\n",
       "      <th>voxel_no</th>\n",
       "      <th>inter_voxel_no</th>\n",
       "      <th>activity</th>\n",
       "    </tr>\n",
       "  </thead>\n",
       "  <tbody>\n",
       "    <tr>\n",
       "      <th>0</th>\n",
       "      <td>0</td>\n",
       "      <td>11</td>\n",
       "      <td>[84, -64, 4, 0, 0, 0, 0, 0, 0, 0, 0, 0, 5, 14,...</td>\n",
       "      <td>1</td>\n",
       "      <td>5</td>\n",
       "      <td>SittingDown-Movement</td>\n",
       "    </tr>\n",
       "    <tr>\n",
       "      <th>1</th>\n",
       "      <td>0</td>\n",
       "      <td>11</td>\n",
       "      <td>[84, -64, 4, 0, 0, 0, 0, 0, 0, 0, 0, 0, -15, 0...</td>\n",
       "      <td>1</td>\n",
       "      <td>5</td>\n",
       "      <td>SittingDown-Movement</td>\n",
       "    </tr>\n",
       "    <tr>\n",
       "      <th>2</th>\n",
       "      <td>0</td>\n",
       "      <td>11</td>\n",
       "      <td>[84, -64, 4, 0, 0, 0, 0, 0, 0, 0, 0, 0, 14, -4...</td>\n",
       "      <td>1</td>\n",
       "      <td>5</td>\n",
       "      <td>SittingDown-Movement</td>\n",
       "    </tr>\n",
       "    <tr>\n",
       "      <th>3</th>\n",
       "      <td>0</td>\n",
       "      <td>11</td>\n",
       "      <td>[84, -64, 4, 0, 0, 0, 0, 0, 0, 0, 0, 0, -13, 7...</td>\n",
       "      <td>1</td>\n",
       "      <td>5</td>\n",
       "      <td>SittingDown-Movement</td>\n",
       "    </tr>\n",
       "    <tr>\n",
       "      <th>4</th>\n",
       "      <td>0</td>\n",
       "      <td>11</td>\n",
       "      <td>[84, -64, 4, 0, 0, 0, 0, 0, 0, 0, 0, 0, -12, 9...</td>\n",
       "      <td>1</td>\n",
       "      <td>5</td>\n",
       "      <td>SittingDown-Movement</td>\n",
       "    </tr>\n",
       "    <tr>\n",
       "      <th>...</th>\n",
       "      <td>...</td>\n",
       "      <td>...</td>\n",
       "      <td>...</td>\n",
       "      <td>...</td>\n",
       "      <td>...</td>\n",
       "      <td>...</td>\n",
       "    </tr>\n",
       "    <tr>\n",
       "      <th>330</th>\n",
       "      <td>0</td>\n",
       "      <td>11</td>\n",
       "      <td>[84, -64, 4, 0, 0, 0, 0, 0, 0, 0, 0, 0, 6, 13,...</td>\n",
       "      <td>1</td>\n",
       "      <td>5</td>\n",
       "      <td>SittingDown-Movement</td>\n",
       "    </tr>\n",
       "    <tr>\n",
       "      <th>331</th>\n",
       "      <td>0</td>\n",
       "      <td>11</td>\n",
       "      <td>[84, -64, 4, 0, 0, 0, 0, 0, 0, 0, 0, 0, -5, -1...</td>\n",
       "      <td>1</td>\n",
       "      <td>5</td>\n",
       "      <td>SittingDown-Movement</td>\n",
       "    </tr>\n",
       "    <tr>\n",
       "      <th>332</th>\n",
       "      <td>0</td>\n",
       "      <td>11</td>\n",
       "      <td>[84, -64, 4, 0, 0, 0, 0, 0, 0, 0, 0, 0, -1, 14...</td>\n",
       "      <td>1</td>\n",
       "      <td>5</td>\n",
       "      <td>SittingDown-Movement</td>\n",
       "    </tr>\n",
       "    <tr>\n",
       "      <th>333</th>\n",
       "      <td>0</td>\n",
       "      <td>11</td>\n",
       "      <td>[84, -64, 4, 0, 0, 0, 0, 0, 0, 0, 0, 0, 6, 13,...</td>\n",
       "      <td>1</td>\n",
       "      <td>5</td>\n",
       "      <td>SittingDown-Movement</td>\n",
       "    </tr>\n",
       "    <tr>\n",
       "      <th>334</th>\n",
       "      <td>0</td>\n",
       "      <td>11</td>\n",
       "      <td>[84, -64, 4, 0, 0, 0, 0, 0, 0, 0, 0, 0, -9, -1...</td>\n",
       "      <td>1</td>\n",
       "      <td>5</td>\n",
       "      <td>SittingDown-Movement</td>\n",
       "    </tr>\n",
       "  </tbody>\n",
       "</table>\n",
       "<p>335 rows × 6 columns</p>\n",
       "</div>"
      ],
      "text/plain": [
       "     timestamp  rssi                                                csi  \\\n",
       "0            0    11  [84, -64, 4, 0, 0, 0, 0, 0, 0, 0, 0, 0, 5, 14,...   \n",
       "1            0    11  [84, -64, 4, 0, 0, 0, 0, 0, 0, 0, 0, 0, -15, 0...   \n",
       "2            0    11  [84, -64, 4, 0, 0, 0, 0, 0, 0, 0, 0, 0, 14, -4...   \n",
       "3            0    11  [84, -64, 4, 0, 0, 0, 0, 0, 0, 0, 0, 0, -13, 7...   \n",
       "4            0    11  [84, -64, 4, 0, 0, 0, 0, 0, 0, 0, 0, 0, -12, 9...   \n",
       "..         ...   ...                                                ...   \n",
       "330          0    11  [84, -64, 4, 0, 0, 0, 0, 0, 0, 0, 0, 0, 6, 13,...   \n",
       "331          0    11  [84, -64, 4, 0, 0, 0, 0, 0, 0, 0, 0, 0, -5, -1...   \n",
       "332          0    11  [84, -64, 4, 0, 0, 0, 0, 0, 0, 0, 0, 0, -1, 14...   \n",
       "333          0    11  [84, -64, 4, 0, 0, 0, 0, 0, 0, 0, 0, 0, 6, 13,...   \n",
       "334          0    11  [84, -64, 4, 0, 0, 0, 0, 0, 0, 0, 0, 0, -9, -1...   \n",
       "\n",
       "     voxel_no  inter_voxel_no              activity  \n",
       "0           1               5  SittingDown-Movement  \n",
       "1           1               5  SittingDown-Movement  \n",
       "2           1               5  SittingDown-Movement  \n",
       "3           1               5  SittingDown-Movement  \n",
       "4           1               5  SittingDown-Movement  \n",
       "..        ...             ...                   ...  \n",
       "330         1               5  SittingDown-Movement  \n",
       "331         1               5  SittingDown-Movement  \n",
       "332         1               5  SittingDown-Movement  \n",
       "333         1               5  SittingDown-Movement  \n",
       "334         1               5  SittingDown-Movement  \n",
       "\n",
       "[335 rows x 6 columns]"
      ]
     },
     "execution_count": 4,
     "metadata": {},
     "output_type": "execute_result"
    }
   ],
   "source": [
    "data = pd.read_csv(\"../training-data/Voxel-1/SittingDown-Movement-2024-04-11-13-50-48.csv\")\n",
    "data"
   ]
  },
  {
   "cell_type": "code",
   "execution_count": null,
   "metadata": {},
   "outputs": [],
   "source": [
    "# Remove the values in the array in the first column in CSI_DF whose indexes are given in the NULL_SUBCARRIERS array\n",
    "# Convert the 'csi' column to a list of lists, assuming each entry is a string representation of a list\n",
    "csi_df = data['csi'].apply(lambda x: eval(x))\n",
    "\n",
    "# Define a function to remove null subcarriers\n",
    "def remove_null_subcarriers(csi_list):\n",
    "    return [value for index, value in enumerate(csi_list) if index not in NULL_SUBCARRIERS]\n",
    "\n",
    "# Apply the function to each row in the 'csi' column\n",
    "data['csi'] = csi_df.apply(remove_null_subcarriers)"
   ]
  },
  {
   "cell_type": "code",
   "execution_count": null,
   "metadata": {},
   "outputs": [],
   "source": [
    "for index, row in data.iterrows():\n",
    "    csi = row['csi']\n",
    "    subcarrier_index = 0\n",
    "    for i in range(len(csi)):\n",
    "        if i % 2 == 0:\n",
    "            subcarrier_index += 1\n",
    "            imaginary = csi[i]\n",
    "            real = csi[i+1]\n",
    "            ampltiude = sqrt(imaginary ** 2 + real ** 2)\n",
    "            phase = atan2(imaginary, real)\n",
    "            data.loc[index, f'subcarrier_{subcarrier_index}_amplitude'] = ampltiude\n",
    "            data.loc[index, f'subcarrier_{subcarrier_index}_phase'] = phase\n",
    "data"
   ]
  },
  {
   "cell_type": "code",
   "execution_count": null,
   "metadata": {},
   "outputs": [],
   "source": [
    "# Calculate the number of subcarriers\n",
    "num_subcarriers = (len(data.columns) - 6) // 2  # Subtracting the original columns and dividing by 2 for amplitude and phase\n",
    "\n",
    "# Create a list to store the vectors\n",
    "vectors_list = []\n",
    "\n",
    "# Calculate the vectors for each subcarrier and add them to the list\n",
    "for subcarrier in range(1, num_subcarriers + 1):\n",
    "    # Create column names for amplitude and phase\n",
    "    amplitude_col_name = f'subcarrier_{subcarrier}_amplitude'\n",
    "    phase_col_name = f'subcarrier_{subcarrier}_phase'\n",
    "    \n",
    "    # Calculate the average for each block of 67 rows for amplitude and phase\n",
    "    amplitude_vector = data[amplitude_col_name].groupby(data.index // 67).mean().reset_index(drop=True)\n",
    "    phase_vector = data[phase_col_name].groupby(data.index // 67).mean().reset_index(drop=True)\n",
    "    \n",
    "    # Add the vectors as a new row in the list\n",
    "    vectors_list.append({\n",
    "        'subcarrier': subcarrier,\n",
    "        'amplitude_vector': amplitude_vector.tolist(),\n",
    "        'phase_vector': phase_vector.tolist()\n",
    "    })\n",
    "\n",
    "# Convert the list of vectors into a DataFrame\n",
    "vectors_df = pd.DataFrame(vectors_list)\n",
    "\n",
    "# vectors_df now contains rows for each subcarrier with amplitude and phase vectors"
   ]
  },
  {
   "cell_type": "code",
   "execution_count": 2,
   "metadata": {},
   "outputs": [],
   "source": [
    "connection = sqlite3.connect(\"../database/rti.db\")"
   ]
  },
  {
   "cell_type": "code",
   "execution_count": 3,
   "metadata": {},
   "outputs": [],
   "source": [
    "cursor = connection.cursor()"
   ]
  },
  {
   "cell_type": "code",
   "execution_count": 8,
   "metadata": {},
   "outputs": [
    {
     "data": {
      "text/plain": [
       "<sqlite3.Cursor at 0x11f7e0f40>"
      ]
     },
     "execution_count": 8,
     "metadata": {},
     "output_type": "execute_result"
    }
   ],
   "source": [
    "#Create table to save threshold of occurence for each activity for each voxel for each subcarrier\n",
    "cursor.execute(\"\"\"\n",
    "    CREATE TABLE IF NOT EXISTS distance_vector (\n",
    "        voxel TEXT,\n",
    "        subcarrier INTEGER,\n",
    "        activity TEXT,\n",
    "        amplitude_vector,\n",
    "        phase_vector\n",
    "    )\n",
    "\"\"\")"
   ]
  },
  {
   "cell_type": "code",
   "execution_count": null,
   "metadata": {},
   "outputs": [],
   "source": [
    "voxel_identifier = 1\n",
    "activity_name = 'SittingDown-Movement'\n",
    "\n",
    "# Iterate over the DataFrame and insert each vector into the SQL table\n",
    "for index, row in vectors_df.iterrows():\n",
    "    subcarrier = row['subcarrier']\n",
    "    amplitude_vector = str(row['amplitude_vector'])  # Convert list to string to store in SQL\n",
    "    phase_vector = str(row['phase_vector'])  # Convert list to string to store in SQL\n",
    "    \n",
    "    # Insert the data into the distance_vector table\n",
    "    cursor.execute(\"\"\"\n",
    "        INSERT INTO distance_vector (voxel, subcarrier, activity, amplitude_vector, phase_vector)\n",
    "        VALUES (?, ?, ?, ?, ?)\n",
    "    \"\"\", (voxel_identifier, subcarrier, activity_name, amplitude_vector, phase_vector))\n",
    "\n",
    "# Commit the transaction\n",
    "connection.commit()"
   ]
  }
 ],
 "metadata": {
  "kernelspec": {
   "display_name": "Python 3",
   "language": "python",
   "name": "python3"
  },
  "language_info": {
   "codemirror_mode": {
    "name": "ipython",
    "version": 3
   },
   "file_extension": ".py",
   "mimetype": "text/x-python",
   "name": "python",
   "nbconvert_exporter": "python",
   "pygments_lexer": "ipython3",
   "version": "3.11.3"
  }
 },
 "nbformat": 4,
 "nbformat_minor": 2
}
